{
 "cells": [
  {
   "cell_type": "markdown",
   "metadata": {},
   "source": [
    "Задание 1"
   ]
  },
  {
   "cell_type": "code",
   "execution_count": 51,
   "metadata": {},
   "outputs": [
    {
     "name": "stdout",
     "output_type": "stream",
     "text": [
      "es\n"
     ]
    }
   ],
   "source": [
    "word_string = \"test\"\n",
    "a=len(word_string)\n",
    "b=a/2\n",
    "c=a//2\n",
    "i=int(b)\n",
    "if b==c:\n",
    "    print(word_string[i-1:i+1])\n",
    "else:\n",
    "    print(word_string[i])"
   ]
  },
  {
   "cell_type": "code",
   "execution_count": 52,
   "metadata": {},
   "outputs": [
    {
     "name": "stdout",
     "output_type": "stream",
     "text": [
      "t\n"
     ]
    }
   ],
   "source": [
    "word_string = \"testing\"\n",
    "a=len(word_string)\n",
    "b=a/2\n",
    "c=a//2\n",
    "i=int(b)\n",
    "if b==c:\n",
    "    print(word_string[i-1:i+1])\n",
    "else:\n",
    "    print(word_string[i])"
   ]
  },
  {
   "cell_type": "markdown",
   "metadata": {},
   "source": [
    "Задание 2"
   ]
  },
  {
   "cell_type": "code",
   "execution_count": 63,
   "metadata": {},
   "outputs": [
    {
     "name": "stdout",
     "output_type": "stream",
     "text": [
      "Введите число:1\n",
      "Введите число:4\n",
      "Введите число:6\n",
      "Введите число:0\n",
      "Результат:   11\n"
     ]
    }
   ],
   "source": [
    "rez=0\n",
    "number=int(input('Введите число:'))\n",
    "rez=rez+number\n",
    "if number==0:\n",
    "     print('Результат:',' ', '0')\n",
    "while number!=0:\n",
    "     number=int(input('Введите число:'))\n",
    "     rez=rez+number\n",
    "print('Результат:', ' ', rez)\n",
    "        "
   ]
  },
  {
   "cell_type": "code",
   "execution_count": 3,
   "metadata": {},
   "outputs": [
    {
     "name": "stdout",
     "output_type": "stream",
     "text": [
      "Введите число:0\n",
      "Результат:   0\n"
     ]
    }
   ],
   "source": [
    "rez=0\n",
    "number=int(input('Введите число:'))\n",
    "rez=rez+number\n",
    "if number==0:\n",
    "     print('Результат:',' ', '0')\n",
    "while number!=0:\n",
    "     number=int(input('Введите число:'))\n",
    "     rez=rez+number\n",
    "     print('Результат:', ' ', rez)"
   ]
  },
  {
   "cell_type": "markdown",
   "metadata": {},
   "source": [
    "Задание 3"
   ]
  },
  {
   "cell_type": "code",
   "execution_count": 55,
   "metadata": {},
   "outputs": [
    {
     "name": "stdout",
     "output_type": "stream",
     "text": [
      "Идеальные пары:\n",
      "Alex и Emma\n",
      "Arthur и Kate\n",
      "John и Kira\n",
      "Peter и Liza\n",
      "Richard и Trisha\n"
     ]
    }
   ],
   "source": [
    "boys = ['Peter', 'Alex', 'John', 'Arthur', 'Richard']\n",
    "girls = ['Kate', 'Liza', 'Kira', 'Emma', 'Trisha']\n",
    "if len(boys)==len(girls):\n",
    "    pairs=zip(sorted(boys),sorted(girls))\n",
    "    print('Идеальные пары:')\n",
    "    for boys, girls in pairs:\n",
    "        print(boys+ ' и '+ girls)\n",
    "else:\n",
    "    print('Внимание, кто-то может остаться без пары!')\n"
   ]
  },
  {
   "cell_type": "markdown",
   "metadata": {},
   "source": [
    "Задание 4"
   ]
  },
  {
   "cell_type": "code",
   "execution_count": 1,
   "metadata": {},
   "outputs": [
    {
     "name": "stdout",
     "output_type": "stream",
     "text": [
      "Средняя температура в странах:\n",
      "Thailand - 23.86 C\n",
      "Germany - 13.8 C\n",
      "Russia - 3.71 C\n",
      "Poland - 12.0 C\n"
     ]
    }
   ],
   "source": [
    "countries_temperature = [\n",
    "['Thailand', [75.2, 77, 78.8, 73.4, 68, 75.2, 77]],\n",
    "['Germany', [57.2, 55.4, 59, 59, 53.6]],\n",
    "['Russia', [35.6, 37.4, 39.2, 41, 42.8, 39.2, 35.6]],\n",
    "['Poland', [50, 50, 53.6, 57.2, 55.4, 55.4]]\n",
    "]\n",
    "print('Средняя температура в странах:')\n",
    "for countries in countries_temperature:\n",
    "     rez=sum(countries[1])/len(countries[1])\n",
    "     rez1=(rez-32)*5/9\n",
    "     rez2=round(rez1,2)\n",
    "     print(countries[0], '-', rez2, 'C')"
   ]
  },
  {
   "cell_type": "code",
   "execution_count": null,
   "metadata": {},
   "outputs": [],
   "source": []
  }
 ],
 "metadata": {
  "kernelspec": {
   "display_name": "Python 3",
   "language": "python",
   "name": "python3"
  },
  "language_info": {
   "codemirror_mode": {
    "name": "ipython",
    "version": 3
   },
   "file_extension": ".py",
   "mimetype": "text/x-python",
   "name": "python",
   "nbconvert_exporter": "python",
   "pygments_lexer": "ipython3",
   "version": "3.8.3"
  }
 },
 "nbformat": 4,
 "nbformat_minor": 4
}
