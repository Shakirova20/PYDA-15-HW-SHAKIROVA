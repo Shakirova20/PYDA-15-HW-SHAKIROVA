{
 "cells": [
  {
   "cell_type": "code",
   "execution_count": 5,
   "metadata": {},
   "outputs": [
    {
     "name": "stdout",
     "output_type": "stream",
     "text": [
      "Фраза 1 длиннее фразы 2\n"
     ]
    }
   ],
   "source": [
    "phrase_1 = 'Насколько проще было бы писать программы, если бы не заказчики'\n",
    "phrase_2 = '640Кб должно хватить для любых задач. Билл Гейтс (по легенде)'\n",
    "if len(phrase_1) > len(phrase_2):\n",
    "   print('Фраза 1 длиннее фразы 2')\n",
    "elif len(phrase_1) < len(phrase_2):\n",
    "   print('Фраза 2 длиннее фразы 1')\n",
    "else:\n",
    "   print('Фразы равной длины')"
   ]
  },
  {
   "cell_type": "code",
   "execution_count": 6,
   "metadata": {},
   "outputs": [
    {
     "name": "stdout",
     "output_type": "stream",
     "text": [
      "Фраза 2 длиннее фразы 1\n"
     ]
    }
   ],
   "source": [
    "phrase_1 = '640Кб должно хватить для любых задач. Билл Гейтс (по легенде)'\n",
    "phrase_2 = 'Насколько проще было бы писать программы, если бы не заказчики'\n",
    "if len(phrase_1) > len(phrase_2):\n",
    "   print('Фраза 1 длиннее фразы 2')\n",
    "elif len(phrase_1) < len(phrase_2):\n",
    "   print('Фраза 2 длиннее фразы 1')\n",
    "else:\n",
    "   print('Фразы равной длины')"
   ]
  },
  {
   "cell_type": "code",
   "execution_count": 7,
   "metadata": {},
   "outputs": [
    {
     "name": "stdout",
     "output_type": "stream",
     "text": [
      "Фразы равной длины\n"
     ]
    }
   ],
   "source": [
    "phrase_1 = 'Насколько проще было бы писать программы, если бы не заказчики'\n",
    "phrase_2 = 'Насколько проще было бы писать программы, если бы не заказчики'\n",
    "if len(phrase_1) > len(phrase_2):\n",
    "   print('Фраза 1 длиннее фразы 2')\n",
    "elif len(phrase_1) < len(phrase_2):\n",
    "   print('Фраза 2 длиннее фразы 1')\n",
    "else:\n",
    "   print('Фразы равной длины')"
   ]
  },
  {
   "cell_type": "markdown",
   "metadata": {},
   "source": [
    "Задание 2"
   ]
  },
  {
   "cell_type": "code",
   "execution_count": 14,
   "metadata": {},
   "outputs": [
    {
     "name": "stdout",
     "output_type": "stream",
     "text": [
      "Високосный год\n"
     ]
    }
   ],
   "source": [
    "year = 2020\n",
    "if year/4 == year//4:\n",
    "    print('Високосный год')\n",
    "else:\n",
    "    print('Обычный год')"
   ]
  },
  {
   "cell_type": "code",
   "execution_count": 15,
   "metadata": {},
   "outputs": [
    {
     "name": "stdout",
     "output_type": "stream",
     "text": [
      "Обычный год\n"
     ]
    }
   ],
   "source": [
    "year = 2019\n",
    "if year/4 == year//4:\n",
    "    print('Високосный год')\n",
    "else:\n",
    "    print('Обычный год')"
   ]
  },
  {
   "cell_type": "markdown",
   "metadata": {},
   "source": [
    "Задание 3"
   ]
  },
  {
   "cell_type": "code",
   "execution_count": 1,
   "metadata": {},
   "outputs": [
    {
     "name": "stdout",
     "output_type": "stream",
     "text": [
      "Введите день:30\n",
      "Введите месяц:август\n",
      "Ваш знак зодиака: Дева\n"
     ]
    }
   ],
   "source": [
    "numder = int(input(\"Введите день:\"))\n",
    "month = input(\"Введите месяц:\")\n",
    "if 24<=numder<=31 and month == \"август\" or 1<=numder<=21 and month == \"сентябрь\":\n",
    "    print ('Ваш знак зодиака: Дева')\n",
    "elif 23<=numder<=31 and month == \"октябрь\" or 1<=numder<=22 and month == \"ноябрь\":\n",
    "    print ('Ваш знак зодиака: Скорпион')\n"
   ]
  },
  {
   "cell_type": "code",
   "execution_count": 2,
   "metadata": {},
   "outputs": [
    {
     "name": "stdout",
     "output_type": "stream",
     "text": [
      "Введите день:29\n",
      "Введите месяц:октябрь\n",
      "Ваш знак зодиака: Скорпион\n"
     ]
    }
   ],
   "source": [
    "numder = int(input(\"Введите день:\"))\n",
    "month = input(\"Введите месяц:\")\n",
    "if 24<=numder<=31 and month == \"август\" or 1<=numder<=21 and month == \"сентябрь\":\n",
    "    print ('Ваш знак зодиака: Дева')\n",
    "elif 23<=numder<=31 and month == \"октябрь\" or 1<=numder<=22 and month == \"ноябрь\":\n",
    "    print ('Ваш знак зодиака: Скорпион')"
   ]
  },
  {
   "cell_type": "markdown",
   "metadata": {},
   "source": [
    "Задание 4"
   ]
  },
  {
   "cell_type": "code",
   "execution_count": 3,
   "metadata": {},
   "outputs": [
    {
     "name": "stdout",
     "output_type": "stream",
     "text": [
      "Упаковка для лыж\n"
     ]
    }
   ],
   "source": [
    "width = 10\n",
    "length = 205\n",
    "height = 5\n",
    "if width<15 and length<15 and height<15:\n",
    "    print('Коробка №1')\n",
    "elif 15<width<50 or 15<length<50 or 15<height<50:\n",
    "    print('Коробка №2')\n",
    "elif length>200:\n",
    "    print('Упаковка для лыж')\n",
    "else:\n",
    "    print('Стандартная коробка №3')\n"
   ]
  },
  {
   "cell_type": "code",
   "execution_count": null,
   "metadata": {},
   "outputs": [],
   "source": []
  }
 ],
 "metadata": {
  "kernelspec": {
   "display_name": "Python 3",
   "language": "python",
   "name": "python3"
  },
  "language_info": {
   "codemirror_mode": {
    "name": "ipython",
    "version": 3
   },
   "file_extension": ".py",
   "mimetype": "text/x-python",
   "name": "python",
   "nbconvert_exporter": "python",
   "pygments_lexer": "ipython3",
   "version": "3.8.3"
  }
 },
 "nbformat": 4,
 "nbformat_minor": 4
}
