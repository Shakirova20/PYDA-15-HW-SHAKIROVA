{
 "cells": [
  {
   "cell_type": "code",
   "execution_count": 22,
   "metadata": {},
   "outputs": [],
   "source": [
    "#Задание 1:\n",
    "\n",
    "from datetime import datetime"
   ]
  },
  {
   "cell_type": "code",
   "execution_count": 29,
   "metadata": {},
   "outputs": [
    {
     "name": "stdout",
     "output_type": "stream",
     "text": [
      "2002-10-02 00:00:00\n"
     ]
    },
    {
     "data": {
      "text/plain": [
       "datetime.datetime"
      ]
     },
     "execution_count": 29,
     "metadata": {},
     "output_type": "execute_result"
    }
   ],
   "source": [
    "The_Moscow_Times=datetime.strptime('Wednesday, October 2, 2002','%A, %B %d, %Y')\n",
    "print(The_Moscow_Times)\n",
    "type(The_Moscow_Times)"
   ]
  },
  {
   "cell_type": "code",
   "execution_count": 28,
   "metadata": {},
   "outputs": [
    {
     "name": "stdout",
     "output_type": "stream",
     "text": [
      "2013-10-11 00:00:00\n"
     ]
    }
   ],
   "source": [
    "The_Guardian=datetime.strptime('Friday, 11.10.13','%A, %d.%m.%y')\n",
    "print(The_Guardian)"
   ]
  },
  {
   "cell_type": "code",
   "execution_count": 27,
   "metadata": {},
   "outputs": [
    {
     "name": "stdout",
     "output_type": "stream",
     "text": [
      "1977-08-18 00:00:00\n"
     ]
    }
   ],
   "source": [
    "Daily_News=datetime.strptime('Thursday, 18 August 1977','%A, %d %B %Y')\n",
    "print(Daily_News)"
   ]
  },
  {
   "cell_type": "code",
   "execution_count": 45,
   "metadata": {},
   "outputs": [
    {
     "name": "stdout",
     "output_type": "stream",
     "text": [
      "2018-04-02 True\n",
      "2018-02-29 False\n",
      "2018-19-02 False\n"
     ]
    }
   ],
   "source": [
    "#Задание 2:\n",
    "from datetime import datetime\n",
    "stream = ['2018-04-02', '2018-02-29', '2018-19-02']\n",
    "\n",
    "def data_kontrol(stream):\n",
    "    for date in stream:\n",
    "        try:\n",
    "            datetime.strptime(date, '%Y-%m-%d')\n",
    "            rez=True\n",
    "            print(date, rez)\n",
    "        except:\n",
    "            rez=False\n",
    "            print(date, rez)\n",
    "    return \n",
    "data_kontrol(stream)"
   ]
  },
  {
   "cell_type": "code",
   "execution_count": 2,
   "metadata": {},
   "outputs": [
    {
     "name": "stdout",
     "output_type": "stream",
     "text": [
      "start_date2018-19-02\n",
      "end_date2018-19-10\n"
     ]
    },
    {
     "data": {
      "text/plain": [
       "[]"
      ]
     },
     "execution_count": 2,
     "metadata": {},
     "output_type": "execute_result"
    }
   ],
   "source": [
    "#Задание 3:\n",
    "from datetime import datetime\n",
    "from datetime import timedelta\n",
    "start_date=input('start_date')\n",
    "end_date=input('end_date')\n",
    "date_range=[]\n",
    "\n",
    "try:\n",
    "    start_date_datetime=datetime.strptime(start_date,'%Y-%m-%d')\n",
    "    end_date_datetime=datetime.strptime(end_date,'%Y-%m-%d')\n",
    "    current=start_date_datetime\n",
    "    while current < end_date_datetime: \n",
    "        current+=timedelta(days=1)\n",
    "        date_range+=[current]\n",
    "except:\n",
    "    date_range=[]\n",
    "date_range    "
   ]
  },
  {
   "cell_type": "code",
   "execution_count": null,
   "metadata": {},
   "outputs": [],
   "source": []
  },
  {
   "cell_type": "code",
   "execution_count": null,
   "metadata": {},
   "outputs": [],
   "source": []
  }
 ],
 "metadata": {
  "kernelspec": {
   "display_name": "Python 3",
   "language": "python",
   "name": "python3"
  },
  "language_info": {
   "codemirror_mode": {
    "name": "ipython",
    "version": 3
   },
   "file_extension": ".py",
   "mimetype": "text/x-python",
   "name": "python",
   "nbconvert_exporter": "python",
   "pygments_lexer": "ipython3",
   "version": "3.8.3"
  }
 },
 "nbformat": 4,
 "nbformat_minor": 4
}
