{
 "cells": [
  {
   "cell_type": "code",
   "execution_count": 54,
   "metadata": {},
   "outputs": [
    {
     "name": "stderr",
     "output_type": "stream",
     "text": [
      "IOPub data rate exceeded.\n",
      "The notebook server will temporarily stop sending output\n",
      "to the client in order to avoid crashing it.\n",
      "To change this limit, set the config variable\n",
      "`--NotebookApp.iopub_data_rate_limit`.\n",
      "\n",
      "Current values:\n",
      "NotebookApp.iopub_data_rate_limit=1000000.0 (bytes/sec)\n",
      "NotebookApp.rate_limit_window=3.0 (secs)\n",
      "\n"
     ]
    }
   ],
   "source": [
    "#Задание 1, при попытке прочитать весь файл выдает ошибку\n",
    "import json\n",
    "purchases={}\n",
    "with open('purchase_log.txt', encoding='utf-8') as f:\n",
    "    next(f)\n",
    "    for line in f:\n",
    "        line=line.strip()\n",
    "        \n",
    "        dict_=json.loads(line)\n",
    "        purchases[dict_['user_id']]=dict_['category']            \n",
    "print(purchases)"
   ]
  },
  {
   "cell_type": "code",
   "execution_count": 81,
   "metadata": {},
   "outputs": [],
   "source": [
    "#Задание 2, не запускается\n",
    "i=0\n",
    "rez=str()\n",
    "with open('visit_log.csv', 'r') as f1:\n",
    "    f2=open('funnel.csv', 'w')\n",
    "    for i, line in enumerate(f1):\n",
    "        line=line.strip('\\n')\n",
    "        line_user_id = line.split(',')[0]\n",
    "        line_category = purchases.get(line_user_id)\n",
    "        if line_category:\n",
    "            rez=line+','+line_category+'\\n'\n",
    "            f2.write(rez)\n",
    "            print(rez)\n",
    "        i+=1\n",
    "        if i>5:\n",
    "            break"
   ]
  },
  {
   "cell_type": "code",
   "execution_count": 32,
   "metadata": {},
   "outputs": [
    {
     "name": "stdout",
     "output_type": "stream",
     "text": [
      "{'1840e0b9d4': 'Продукты', '4e4f90fcfb': 'Электроника', 'afea8d72fc': 'Электроника', '373a6055fe': 'Бытовая техника'}\n"
     ]
    }
   ],
   "source": [
    "#задание 1, при выводе нескольких строк работает.\n",
    "purchases={}\n",
    "import json\n",
    "i=0\n",
    "with open('purchase_log.txt', encoding='utf-8') as f:\n",
    "    next(f)\n",
    "    for line in f:\n",
    "        line=line.strip()\n",
    "        \n",
    "        dict_=json.loads(line)\n",
    "        purchases[dict_['user_id']]=dict_['category']            \n",
    "        i+=1\n",
    "        if i>3:\n",
    "            break\n",
    "print(purchases) \n"
   ]
  },
  {
   "cell_type": "code",
   "execution_count": 82,
   "metadata": {},
   "outputs": [
    {
     "name": "stdout",
     "output_type": "stream",
     "text": [
      "{'1840e0b9d4': 'Продукты', '4e4f90fcfb': 'Электроника', 'afea8d72fc': 'Электроника', '373a6055fe': 'Бытовая техника', '9b2ab046f3': 'Электроника', '9f39d307c3': 'Электроника', '44edeffc91': 'Продукты', '704474fa2d': 'Продукты', '1de31be403': 'Бытовая техника', 'b71f36a5e4': 'Продукты', '79843a685a': 'Продукты'}\n"
     ]
    }
   ],
   "source": [
    "#Задание 2, при попытке выполнить все сразу - не работает\n",
    "import json\n",
    "purchases={}\n",
    "i=0\n",
    "with open('purchase_log.txt', encoding='utf-8') as f:\n",
    "    next(f)\n",
    "    for line in f:\n",
    "        line=line.strip()\n",
    "        \n",
    "        dict_=json.loads(line)\n",
    "        purchases[dict_['user_id']]=dict_['category']            \n",
    "        i+=1\n",
    "        if i>10:\n",
    "            break\n",
    "print(purchases)\n",
    "\n",
    "i=0\n",
    "rez=str()\n",
    "with open('visit_log.csv', 'r') as f1:\n",
    "    f2=open('funnel.csv', 'w')\n",
    "    for i, line in enumerate(f1):\n",
    "        line=line.strip('\\n')\n",
    "        line_user_id = line.split(',')[0]\n",
    "        line_category = purchases.get(line_user_id)\n",
    "        if line_category:\n",
    "            rez=line+','+line_category+'\\n'\n",
    "            f2.write(rez)\n",
    "            print(rez)\n",
    "        i+=1\n",
    "        if i>5:\n",
    "            break"
   ]
  },
  {
   "cell_type": "code",
   "execution_count": null,
   "metadata": {},
   "outputs": [],
   "source": []
  }
 ],
 "metadata": {
  "kernelspec": {
   "display_name": "Python 3",
   "language": "python",
   "name": "python3"
  },
  "language_info": {
   "codemirror_mode": {
    "name": "ipython",
    "version": 3
   },
   "file_extension": ".py",
   "mimetype": "text/x-python",
   "name": "python",
   "nbconvert_exporter": "python",
   "pygments_lexer": "ipython3",
   "version": "3.8.3"
  }
 },
 "nbformat": 4,
 "nbformat_minor": 4
}
